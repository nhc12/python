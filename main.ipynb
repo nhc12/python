{
 "cells": [
  {
   "cell_type": "code",
   "execution_count": 1,
   "id": "3568ddb2-1556-4736-ad40-059353f6124b",
   "metadata": {},
   "outputs": [],
   "source": [
    "## PyBank Financial Records"
   ]
  },
  {
   "cell_type": "code",
   "execution_count": 4,
   "id": "23192bd1-f17f-40b1-a8f9-4f1ed553d54f",
   "metadata": {},
   "outputs": [],
   "source": [
    "path = \"C:/Users/nhc12/OneDrive/Desktop/Fintech UofT/python-homework/PyBank/budget_data.csv\""
   ]
  },
  {
   "cell_type": "code",
   "execution_count": 5,
   "id": "33d27ee0-d7e4-49fe-a7da-56a0d5f9e094",
   "metadata": {},
   "outputs": [
    {
     "name": "stdout",
     "output_type": "stream",
     "text": [
      "        Date  Profit/Losses    Change\n",
      "0   Jan-2010         867884       NaN\n",
      "1   Feb-2010         984655  116771.0\n",
      "2   Mar-2010         322013 -662642.0\n",
      "3   Apr-2010         -69417 -391430.0\n",
      "4   May-2010         310503  379920.0\n",
      "..       ...            ...       ...\n",
      "81  Oct-2016         102685 -665765.0\n",
      "82  Nov-2016         795914  693229.0\n",
      "83  Dec-2016          60988 -734926.0\n",
      "84  Jan-2017         138230   77242.0\n",
      "85  Feb-2017         671099  532869.0\n",
      "\n",
      "[86 rows x 3 columns]\n"
     ]
    }
   ],
   "source": [
    "import pandas as pd\n",
    "df=pd.read_csv(path)\n",
    "df['Change']=df['Profit/Losses'].diff()\n",
    "print (df)"
   ]
  },
  {
   "cell_type": "code",
   "execution_count": 35,
   "id": "74b5b9cb-6522-4cfd-9831-c80036623ea5",
   "metadata": {},
   "outputs": [
    {
     "name": "stdout",
     "output_type": "stream",
     "text": [
      "Financial Analysis\n",
      "Total Months: 86\n",
      "Total: $38382578\n",
      "Average Change: $-2315.12\n",
      "Greatest Increase in Profits: Feb-2012, 1926159.0\n",
      "Greatest Increase in Profits: Sep-2013, -2196167.0\n"
     ]
    }
   ],
   "source": [
    "count=df['Profit/Losses'].count()\n",
    "sum=df['Profit/Losses'].sum()\n",
    "mean=round(df['Change'].mean(),2)\n",
    "max=df[df['Change'] == df['Change'].max()]\n",
    "min=df[df['Change'] == df['Change'].min()]\n",
    "print('Financial Analysis')\n",
    "print('Total Months: ' +str(count))\n",
    "print('Total: $' +str(sum))\n",
    "print('Average Change: $' +str(mean))\n",
    "print('Greatest Increase in Profits: '+ f\"{max['Date'].iloc[0]}, {max['Change'].iloc[0]}\")\n",
    "print('Greatest Increase in Profits: '+ f\"{min['Date'].iloc[0]}, {min['Change'].iloc[0]}\")"
   ]
  },
  {
   "cell_type": "code",
   "execution_count": null,
   "id": "2dfead68-d1f9-4d84-b3d1-080795363ef2",
   "metadata": {},
   "outputs": [],
   "source": []
  }
 ],
 "metadata": {
  "kernelspec": {
   "display_name": "Python 3",
   "language": "python",
   "name": "python3"
  },
  "language_info": {
   "codemirror_mode": {
    "name": "ipython",
    "version": 3
   },
   "file_extension": ".py",
   "mimetype": "text/x-python",
   "name": "python",
   "nbconvert_exporter": "python",
   "pygments_lexer": "ipython3",
   "version": "3.8.8"
  }
 },
 "nbformat": 4,
 "nbformat_minor": 5
}
